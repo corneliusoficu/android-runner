{
 "cells": [
  {
   "cell_type": "code",
   "execution_count": 1,
   "metadata": {},
   "outputs": [],
   "source": [
    "import os\n",
    "import pandas as pd"
   ]
  },
  {
   "cell_type": "code",
   "execution_count": 2,
   "metadata": {},
   "outputs": [],
   "source": [
    "# Change REP_DIR to the folder containing all repetitions for a block (network condition)\n",
    "REPS_DIR = \"wifi\"\n",
    "os.chdir(REPS_DIR)"
   ]
  },
  {
   "cell_type": "code",
   "execution_count": 3,
   "metadata": {},
   "outputs": [
    {
     "data": {
      "text/plain": [
       "'D:\\\\Master\\\\Sem5\\\\VU-green-it\\\\experiment-data\\\\wifi'"
      ]
     },
     "execution_count": 3,
     "metadata": {},
     "output_type": "execute_result"
    }
   ],
   "source": [
    "cwd = os.path.abspath('') \n",
    "cwd"
   ]
  },
  {
   "cell_type": "code",
   "execution_count": 4,
   "metadata": {},
   "outputs": [
    {
     "data": {
      "text/plain": [
       "['2020.10.11_192407',\n",
       " '2020.10.15_020636',\n",
       " '2020.10.15_032742',\n",
       " '2020.10.15_044814',\n",
       " '2020.10.15_060851',\n",
       " '2020.10.15_072920',\n",
       " '2020.10.15_084950',\n",
       " '2020.10.17_174337',\n",
       " '2020.10.17_190421',\n",
       " '2020.10.17_202505',\n",
       " '2020.10.17_214543']"
      ]
     },
     "execution_count": 4,
     "metadata": {},
     "output_type": "execute_result"
    }
   ],
   "source": [
    "repetition_files = os.listdir(cwd) \n",
    "repetition_files"
   ]
  },
  {
   "cell_type": "code",
   "execution_count": 5,
   "metadata": {},
   "outputs": [],
   "source": [
    "assert(11 == len(repetition_files)) # check that no of repetitions is 11"
   ]
  },
  {
   "cell_type": "code",
   "execution_count": 6,
   "metadata": {},
   "outputs": [],
   "source": [
    "def get_aggregated_rep_df(rep_dir):\n",
    "    os.chdir(f\"{cwd}\\\\{rep_dir}\")\n",
    "    \n",
    "    # Read data from file 'Aggregated_Results_Batterystats.csv' \n",
    "    aggregated_battery_stats = pd.read_csv('Aggregated_Results_Batterystats.csv') \n",
    "    \n",
    "    navigation_timing_df = pd.DataFrame(columns=['headerSize', 'workerTime', 'fetchTime', \n",
    "                                            'timeToFirstByte', 'downloadTime', 'totalTime',\n",
    "                                            'totalLoadTime', 'dnsLookupTime']) # relevant\n",
    "    fcp_df = pd.DataFrame(columns=['fcp']) # relevant\n",
    "    fp_df = pd.DataFrame(columns=['fp']) # relevant\n",
    "    \n",
    "    for i in range (0, len(aggregated_battery_stats)):\n",
    "        website = aggregated_battery_stats['subject'].get(i)\n",
    "        \n",
    "        perfumejs_path = f\"{cwd}\\\\{rep_dir}\\\\data\\\\nexus5x\\\\{website}\\\\chrome\\\\perfume_js\\\\\"\n",
    "    \n",
    "        for file in os.listdir(perfumejs_path):\n",
    "            if os.path.isfile(os.path.join(perfumejs_path, file)):\n",
    "                if 'navigationTiming_results_' in file:\n",
    "                    navigation_timing_stats_for_website = pd.read_csv(f\"{perfumejs_path}{file}\")\n",
    "                    navigation_timing_df = navigation_timing_df.append(navigation_timing_stats_for_website[:1], sort=False, ignore_index=True)\n",
    "\n",
    "                if 'fcp_results_' in file:\n",
    "                    fcp_for_website = pd.read_csv(f\"{perfumejs_path}{file}\")\n",
    "                    fcp_df = fcp_df.append(fcp_for_website[:1], sort=False, ignore_index=True)\n",
    "\n",
    "                if 'fp_results_' in file:\n",
    "                    fp_for_website = pd.read_csv(f\"{perfumejs_path}{file}\")\n",
    "                    fp_df = fp_df.append(fp_for_website[:1], sort=False, ignore_index=True)\n",
    "\n",
    "    aggregated_rep = pd.concat([aggregated_battery_stats, navigation_timing_df, fcp_df, fp_df], join = 'outer', axis = 1) \n",
    "    assert(30==len(aggregated_rep))\n",
    "\n",
    "    aggregated_rep.to_csv(f\"{cwd}\\\\{rep_dir}\\\\Aggregated_Results_For_Rep.csv\")\n",
    "\n",
    "    return aggregated_rep"
   ]
  },
  {
   "cell_type": "code",
   "execution_count": 7,
   "metadata": {},
   "outputs": [],
   "source": [
    "all_aggregated_reps = pd.DataFrame()\n",
    "\n",
    "i = 0\n",
    "for rep_dir in repetition_files:\n",
    "    aggregated_rep_df = get_aggregated_rep_df(rep_dir)\n",
    "    \n",
    "    assert(len(aggregated_rep_df) == 30)\n",
    "    \n",
    "    # Add repetition timestamp (corresponds to rep folder name)\n",
    "    rep_name_df = pd.concat([pd.DataFrame([rep_dir], columns=['timestamp']) for i in range(30)], ignore_index=True)\n",
    "    \n",
    "    aggregated_rep_df = pd.concat([aggregated_rep_df, rep_name_df], axis = 1)\n",
    "    \n",
    "    # Aggregate repetition df to result df\n",
    "    old_len = len(all_aggregated_reps)\n",
    "    all_aggregated_reps = pd.concat([all_aggregated_reps, aggregated_rep_df])\n",
    "    new_len = len(all_aggregated_reps)\n",
    "    \n",
    "    assert(len(all_aggregated_reps) - old_len == 30)"
   ]
  },
  {
   "cell_type": "code",
   "execution_count": 8,
   "metadata": {},
   "outputs": [],
   "source": [
    "assert(len(all_aggregated_reps) == 11*30) # 11 repetitions, 30 websites (360)"
   ]
  },
  {
   "cell_type": "code",
   "execution_count": 9,
   "metadata": {},
   "outputs": [
    {
     "data": {
      "text/html": [
       "<div>\n",
       "<style scoped>\n",
       "    .dataframe tbody tr th:only-of-type {\n",
       "        vertical-align: middle;\n",
       "    }\n",
       "\n",
       "    .dataframe tbody tr th {\n",
       "        vertical-align: top;\n",
       "    }\n",
       "\n",
       "    .dataframe thead th {\n",
       "        text-align: right;\n",
       "    }\n",
       "</style>\n",
       "<table border=\"1\" class=\"dataframe\">\n",
       "  <thead>\n",
       "    <tr style=\"text-align: right;\">\n",
       "      <th></th>\n",
       "      <th>device</th>\n",
       "      <th>subject</th>\n",
       "      <th>browser</th>\n",
       "      <th>batterystats_Joule_calculated</th>\n",
       "      <th>headerSize</th>\n",
       "      <th>workerTime</th>\n",
       "      <th>fetchTime</th>\n",
       "      <th>timeToFirstByte</th>\n",
       "      <th>downloadTime</th>\n",
       "      <th>totalTime</th>\n",
       "      <th>totalLoadTime</th>\n",
       "      <th>dnsLookupTime</th>\n",
       "      <th>fcp</th>\n",
       "      <th>fp</th>\n",
       "      <th>timestamp</th>\n",
       "    </tr>\n",
       "  </thead>\n",
       "  <tbody>\n",
       "    <tr>\n",
       "      <th>0</th>\n",
       "      <td>nexus5x</td>\n",
       "      <td>http-192-168-100-103-9191-local_websites-www-i...</td>\n",
       "      <td>chrome</td>\n",
       "      <td>49.743360</td>\n",
       "      <td>341</td>\n",
       "      <td>0</td>\n",
       "      <td>153.4</td>\n",
       "      <td>3.9</td>\n",
       "      <td>135.2</td>\n",
       "      <td>139.1</td>\n",
       "      <td>5018</td>\n",
       "      <td>0</td>\n",
       "      <td>1472.3</td>\n",
       "      <td>1472.3</td>\n",
       "      <td>2020.10.11_192407</td>\n",
       "    </tr>\n",
       "    <tr>\n",
       "      <th>1</th>\n",
       "      <td>nexus5x</td>\n",
       "      <td>http-192-168-100-103-9191-local_websites-www-w...</td>\n",
       "      <td>chrome</td>\n",
       "      <td>64.089072</td>\n",
       "      <td>341</td>\n",
       "      <td>0</td>\n",
       "      <td>76.5</td>\n",
       "      <td>4.5</td>\n",
       "      <td>42.5</td>\n",
       "      <td>47</td>\n",
       "      <td>1842</td>\n",
       "      <td>0</td>\n",
       "      <td>1282</td>\n",
       "      <td>1282</td>\n",
       "      <td>2020.10.11_192407</td>\n",
       "    </tr>\n",
       "    <tr>\n",
       "      <th>2</th>\n",
       "      <td>nexus5x</td>\n",
       "      <td>http-192-168-100-103-9191-local_websites-www-w...</td>\n",
       "      <td>chrome</td>\n",
       "      <td>61.712856</td>\n",
       "      <td>334</td>\n",
       "      <td>0</td>\n",
       "      <td>88.7</td>\n",
       "      <td>13.7</td>\n",
       "      <td>49</td>\n",
       "      <td>62.7</td>\n",
       "      <td>1008</td>\n",
       "      <td>0</td>\n",
       "      <td>1172.7</td>\n",
       "      <td>1172.7</td>\n",
       "      <td>2020.10.11_192407</td>\n",
       "    </tr>\n",
       "    <tr>\n",
       "      <th>3</th>\n",
       "      <td>nexus5x</td>\n",
       "      <td>http-192-168-100-103-9191-local_websites-www-o...</td>\n",
       "      <td>chrome</td>\n",
       "      <td>49.466808</td>\n",
       "      <td>342</td>\n",
       "      <td>0</td>\n",
       "      <td>40.5</td>\n",
       "      <td>4.2</td>\n",
       "      <td>3.9</td>\n",
       "      <td>8.1</td>\n",
       "      <td>2730</td>\n",
       "      <td>0</td>\n",
       "      <td>1787.4</td>\n",
       "      <td>1787.4</td>\n",
       "      <td>2020.10.11_192407</td>\n",
       "    </tr>\n",
       "    <tr>\n",
       "      <th>4</th>\n",
       "      <td>nexus5x</td>\n",
       "      <td>http-192-168-100-103-9191-local_websites-www-b...</td>\n",
       "      <td>chrome</td>\n",
       "      <td>43.525440</td>\n",
       "      <td>346</td>\n",
       "      <td>0</td>\n",
       "      <td>143.6</td>\n",
       "      <td>34.8</td>\n",
       "      <td>80.5</td>\n",
       "      <td>115.3</td>\n",
       "      <td>1015</td>\n",
       "      <td>0</td>\n",
       "      <td>1185.4</td>\n",
       "      <td>1185.4</td>\n",
       "      <td>2020.10.11_192407</td>\n",
       "    </tr>\n",
       "  </tbody>\n",
       "</table>\n",
       "</div>"
      ],
      "text/plain": [
       "    device                                            subject browser  \\\n",
       "0  nexus5x  http-192-168-100-103-9191-local_websites-www-i...  chrome   \n",
       "1  nexus5x  http-192-168-100-103-9191-local_websites-www-w...  chrome   \n",
       "2  nexus5x  http-192-168-100-103-9191-local_websites-www-w...  chrome   \n",
       "3  nexus5x  http-192-168-100-103-9191-local_websites-www-o...  chrome   \n",
       "4  nexus5x  http-192-168-100-103-9191-local_websites-www-b...  chrome   \n",
       "\n",
       "   batterystats_Joule_calculated headerSize workerTime  fetchTime  \\\n",
       "0                      49.743360        341          0      153.4   \n",
       "1                      64.089072        341          0       76.5   \n",
       "2                      61.712856        334          0       88.7   \n",
       "3                      49.466808        342          0       40.5   \n",
       "4                      43.525440        346          0      143.6   \n",
       "\n",
       "   timeToFirstByte downloadTime totalTime totalLoadTime dnsLookupTime     fcp  \\\n",
       "0              3.9        135.2     139.1          5018             0  1472.3   \n",
       "1              4.5         42.5        47          1842             0    1282   \n",
       "2             13.7           49      62.7          1008             0  1172.7   \n",
       "3              4.2          3.9       8.1          2730             0  1787.4   \n",
       "4             34.8         80.5     115.3          1015             0  1185.4   \n",
       "\n",
       "       fp          timestamp  \n",
       "0  1472.3  2020.10.11_192407  \n",
       "1    1282  2020.10.11_192407  \n",
       "2  1172.7  2020.10.11_192407  \n",
       "3  1787.4  2020.10.11_192407  \n",
       "4  1185.4  2020.10.11_192407  "
      ]
     },
     "execution_count": 9,
     "metadata": {},
     "output_type": "execute_result"
    }
   ],
   "source": [
    "all_aggregated_reps.head()"
   ]
  },
  {
   "cell_type": "code",
   "execution_count": 10,
   "metadata": {},
   "outputs": [],
   "source": [
    "all_aggregated_reps.to_csv(f\"{cwd}\\\\Aggregated_Reps_Wifi.csv\")"
   ]
  },
  {
   "cell_type": "code",
   "execution_count": null,
   "metadata": {},
   "outputs": [],
   "source": []
  }
 ],
 "metadata": {
  "kernelspec": {
   "display_name": "Python 3",
   "language": "python",
   "name": "python3"
  },
  "language_info": {
   "codemirror_mode": {
    "name": "ipython",
    "version": 3
   },
   "file_extension": ".py",
   "mimetype": "text/x-python",
   "name": "python",
   "nbconvert_exporter": "python",
   "pygments_lexer": "ipython3",
   "version": "3.6.8rc1"
  }
 },
 "nbformat": 4,
 "nbformat_minor": 2
}
